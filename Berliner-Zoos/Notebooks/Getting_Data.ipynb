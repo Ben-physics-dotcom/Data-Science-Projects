{
  "nbformat": 4,
  "nbformat_minor": 0,
  "metadata": {
    "colab": {
      "provenance": [],
      "collapsed_sections": [
        "2GTCODWm6mPN"
      ]
    },
    "kernelspec": {
      "name": "python3",
      "display_name": "Python 3"
    },
    "language_info": {
      "name": "python"
    }
  },
  "cells": [
    {
      "cell_type": "markdown",
      "source": [
        "# Getting Data"
      ],
      "metadata": {
        "id": "EDj0C-Jo7f5m"
      }
    },
    {
      "cell_type": "markdown",
      "source": [
        "In this notebook I transform the tables from the annuel reports (PDF-files) from the Berlins Zoos to csv files.\n",
        "\n",
        "Time frame: 2016 - 2022\n",
        "\n",
        "The notebook created in Google Colab and the code is for the Colab environment."
      ],
      "metadata": {
        "id": "2dLB-Ywt7kjl"
      }
    },
    {
      "cell_type": "markdown",
      "source": [
        "# Imports"
      ],
      "metadata": {
        "id": "2GTCODWm6mPN"
      }
    },
    {
      "cell_type": "code",
      "execution_count": null,
      "metadata": {
        "id": "3FIefT4Y6i7S"
      },
      "outputs": [],
      "source": [
        "!pip install pdfplumber\n",
        "!pip install PyPDF4\n",
        "!pip install tabula-py"
      ]
    },
    {
      "cell_type": "code",
      "source": [
        "import pandas as pd\n",
        "import matplotlib.pyplot as plt\n",
        "import numpy as np\n",
        "import re\n",
        "import os\n",
        "import gc\n",
        "import warnings\n",
        "\n",
        "warnings.filterwarnings(\"ignore\")\n",
        "\n",
        "import time\n",
        "import sys\n",
        "\n",
        "sys.path.append(\"..\")\n",
        "\n",
        "import webbrowser as wb\n",
        "import io\n",
        "import PyPDF4\n",
        "from PyPDF4 import PdfFileReader as PFR\n",
        "import urllib\n",
        "from io import BytesIO\n",
        "import tabula\n",
        "import requests\n",
        "import bs4\n",
        "import wordcloud as wc\n",
        "import pdfplumber"
      ],
      "metadata": {
        "id": "L8iZy0l06t2C"
      },
      "execution_count": null,
      "outputs": []
    },
    {
      "cell_type": "markdown",
      "source": [
        "# Sources\n",
        "- GB = Geschäftsbericht (eng.: annual report)"
      ],
      "metadata": {
        "id": "MmJqC-V46zUL"
      }
    },
    {
      "cell_type": "code",
      "source": [
        "pr_GB16B = download_pdf(GB16_Berlin)\n",
        "pr_GB17B = download_pdf(GB17_Berlin)\n",
        "pr_GB18B = download_pdf(GB18_Berlin)\n",
        "pr_GB19B = download_pdf(GB19_Berlin)\n",
        "pr_GB20B = download_pdf(GB20_Berlin)\n",
        "pr_GB21B = download_pdf(GB21_Berlin)\n",
        "pr_GB22B = download_pdf(GB22_Berlin)"
      ],
      "metadata": {
        "id": "JrThbcaI7MAu"
      },
      "execution_count": null,
      "outputs": []
    },
    {
      "cell_type": "markdown",
      "source": [
        "# Tables\n",
        "\n",
        "Extracting all tables from annual reports. Uncleaned."
      ],
      "metadata": {
        "id": "MLjE0iIY7PKM"
      }
    },
    {
      "cell_type": "code",
      "source": [
        "Berlin_16 = '/content/Geschaeftsbericht_AG_2016.pdf'\n",
        "Berlin_17 = '/content/Geschaeftsbericht_AG_2017.pdf'\n",
        "Berlin_18 = '/content/Geschaeftsbericht_AG_2018.pdf'\n",
        "Berlin_19 = '/content/Geschaeftsbericht_AG_2019.pdf'\n",
        "Berlin_20 = '/content/Geschaeftsbericht_AG_2020.pdf'\n",
        "Berlin_21 = '/content/Geschaeftsbericht_AG_2021.pdf'\n",
        "Berlin_22 = '/content/Geschaeftsbericht_AG_2022.pdf'"
      ],
      "metadata": {
        "id": "G7GcQcOP7aDU"
      },
      "execution_count": null,
      "outputs": []
    },
    {
      "cell_type": "code",
      "source": [
        "tables_GB16_Berlin = tabula.read_pdf(Berlin_16,pages='all')\n",
        "tables_GB17_Berlin = tabula.read_pdf(Berlin_17,pages='all')\n",
        "tables_GB18_Berlin = tabula.read_pdf(Berlin_18,pages='all')\n",
        "tables_GB19_Berlin = tabula.read_pdf(Berlin_19,pages='all')\n",
        "tables_GB20_Berlin = tabula.read_pdf(Berlin_20,pages='all')\n",
        "tables_GB21_Berlin = tabula.read_pdf(Berlin_21,pages='all')\n",
        "tables_GB22_Berlin = tabula.read_pdf(Berlin_22,pages='all')"
      ],
      "metadata": {
        "id": "yrMUaH4S7dqH"
      },
      "execution_count": null,
      "outputs": []
    },
    {
      "cell_type": "markdown",
      "source": [
        "**Warning:** Make sure that the directory /content/CSV-FIles exists."
      ],
      "metadata": {
        "id": "ZpqdzFPiB4_l"
      }
    },
    {
      "cell_type": "code",
      "source": [
        "for i in range(len(tables_GB16_Berlin)):\n",
        "  tables_GB16_Berlin[i].to_csv(f\"/content/CSV-FIles/tables_GB16_Berlin/tables_GB16_Berlin_{i}.csv\", sep=',', index=False, encoding='utf-8')\n",
        "\n",
        "for i in range(len(tables_GB17_Berlin)):\n",
        "  tables_GB17_Berlin[i].to_csv(f\"/content/CSV-FIles/tables_GB17_Berlin/tables_GB17_Berlin{i}.csv\", sep=',', index=False, encoding='utf-8')\n",
        "\n",
        "for i in range(len(tables_GB18_Berlin)):\n",
        "  tables_GB18_Berlin[i].to_csv(f\"/content/CSV-FIles/tables_GB18_Berlin/tables_GB18_Berlin{i}.csv\", sep=',', index=False, encoding='utf-8')\n",
        "\n",
        "for i in range(len(tables_GB19_Berlin)):\n",
        "  tables_GB19_Berlin[i].to_csv(f\"/content/CSV-FIles/tables_GB19_Berlin/tables_GB19_Berlin{i}.csv\", sep=',', index=False, encoding='utf-8')\n",
        "\n",
        "for i in range(len(tables_GB20_Berlin)):\n",
        "  tables_GB20_Berlin[i].to_csv(f\"/content/CSV-FIles/tables_GB20_Berlin/tables_GB20_Berlin{i}.csv\", sep=',', index=False, encoding='utf-8')\n",
        "\n",
        "for i in range(len(tables_GB21_Berlin)):\n",
        "  tables_GB21_Berlin[i].to_csv(f\"/content/CSV-FIles/tables_GB21_Berlin/tables_GB21_Berlin{i}.csv\", sep=',', index=False, encoding='utf-8')\n",
        "\n",
        "for i in range(len(tables_GB22_Berlin)):\n",
        "  tables_GB22_Berlin[i].to_csv(f\"/content/CSV-FIles/tables_GB22_Berlin/tables_GB22_Berlin{i}.csv\", sep=',', index=False, encoding='utf-8')"
      ],
      "metadata": {
        "id": "2kSUWh9a9Nwy"
      },
      "execution_count": null,
      "outputs": []
    },
    {
      "cell_type": "markdown",
      "source": [
        "# Downloading Data as zip file"
      ],
      "metadata": {
        "id": "R_cRma95Dmck"
      }
    },
    {
      "cell_type": "code",
      "source": [
        "!zip -r /content/CSV-FIles.zip /content/CSV-FIles"
      ],
      "metadata": {
        "id": "4-oglghvDqKK"
      },
      "execution_count": null,
      "outputs": []
    }
  ]
}